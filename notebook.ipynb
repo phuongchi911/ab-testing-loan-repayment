{
 "cells": [
  {
   "cell_type": "markdown",
   "metadata": {},
   "source": [
    "# A/B Testing: Early Repayment Feature Impact\n",
    "\n",
    "This notebook analyzes the impact of an early repayment feature on loan performance using a synthetic dataset. The goal is to simulate a real-world A/B testing scenario based on my past experience in Lending analytics."
   ]
  },
  {
   "cell_type": "code",
   "execution_count": 1,
   "metadata": {},
   "outputs": [],
   "source": [
    "# Import libraries\n",
    "import pandas as pd\n",
    "import numpy as np\n",
    "import matplotlib.pyplot as plt\n",
    "import seaborn as sns\n",
    "from statsmodels.stats.proportion import proportions_ztest\n",
    "\n",
    "# Set style\n",
    "sns.set(style=\"whitegrid\")"
   ]
  },
  {
   "cell_type": "code",
   "execution_count": 2,
   "metadata": {},
   "outputs": [
    {
     "data": {
      "text/html": [
       "<div>\n",
       "<style scoped>\n",
       "    .dataframe tbody tr th:only-of-type {\n",
       "        vertical-align: middle;\n",
       "    }\n",
       "\n",
       "    .dataframe tbody tr th {\n",
       "        vertical-align: top;\n",
       "    }\n",
       "\n",
       "    .dataframe thead th {\n",
       "        text-align: right;\n",
       "    }\n",
       "</style>\n",
       "<table border=\"1\" class=\"dataframe\">\n",
       "  <thead>\n",
       "    <tr style=\"text-align: right;\">\n",
       "      <th></th>\n",
       "      <th>user_id</th>\n",
       "      <th>treatment_group</th>\n",
       "      <th>loan_amount</th>\n",
       "      <th>loan_tenure_months</th>\n",
       "      <th>credit_score</th>\n",
       "      <th>repayment_outcome</th>\n",
       "    </tr>\n",
       "  </thead>\n",
       "  <tbody>\n",
       "    <tr>\n",
       "      <th>0</th>\n",
       "      <td>user_1</td>\n",
       "      <td>control</td>\n",
       "      <td>5512</td>\n",
       "      <td>12</td>\n",
       "      <td>570</td>\n",
       "      <td>defaulted</td>\n",
       "    </tr>\n",
       "    <tr>\n",
       "      <th>1</th>\n",
       "      <td>user_2</td>\n",
       "      <td>treatment</td>\n",
       "      <td>7814</td>\n",
       "      <td>12</td>\n",
       "      <td>673</td>\n",
       "      <td>paid</td>\n",
       "    </tr>\n",
       "    <tr>\n",
       "      <th>2</th>\n",
       "      <td>user_3</td>\n",
       "      <td>control</td>\n",
       "      <td>6425</td>\n",
       "      <td>6</td>\n",
       "      <td>751</td>\n",
       "      <td>paid</td>\n",
       "    </tr>\n",
       "    <tr>\n",
       "      <th>3</th>\n",
       "      <td>user_4</td>\n",
       "      <td>control</td>\n",
       "      <td>4134</td>\n",
       "      <td>12</td>\n",
       "      <td>581</td>\n",
       "      <td>paid</td>\n",
       "    </tr>\n",
       "    <tr>\n",
       "      <th>4</th>\n",
       "      <td>user_5</td>\n",
       "      <td>control</td>\n",
       "      <td>3652</td>\n",
       "      <td>6</td>\n",
       "      <td>659</td>\n",
       "      <td>paid</td>\n",
       "    </tr>\n",
       "  </tbody>\n",
       "</table>\n",
       "</div>"
      ],
      "text/plain": [
       "  user_id treatment_group  loan_amount  loan_tenure_months  credit_score  \\\n",
       "0  user_1         control         5512                  12           570   \n",
       "1  user_2       treatment         7814                  12           673   \n",
       "2  user_3         control         6425                   6           751   \n",
       "3  user_4         control         4134                  12           581   \n",
       "4  user_5         control         3652                   6           659   \n",
       "\n",
       "  repayment_outcome  \n",
       "0         defaulted  \n",
       "1              paid  \n",
       "2              paid  \n",
       "3              paid  \n",
       "4              paid  "
      ]
     },
     "execution_count": 2,
     "metadata": {},
     "output_type": "execute_result"
    }
   ],
   "source": [
    "# Load dataset\n",
    "df = pd.read_csv(\"data/synthetic_loan_data.csv\")\n",
    "df.head()"
   ]
  },
  {
   "cell_type": "markdown",
   "metadata": {},
   "source": [
    "## Repayment Outcome Distribution by Group"
   ]
  },
  {
   "cell_type": "code",
   "execution_count": 3,
   "metadata": {},
   "outputs": [
    {
     "data": {
      "image/png": "[encoded data removed]",
      "text/plain": [
       "<Figure size 576x360 with 1 Axes>"
      ]
     },
     "metadata": {
      "needs_background": "light"
     },
     "output_type": "display_data"
    }
   ],
   "source": [
    "# Group by treatment and outcome\n",
    "group_counts = df.groupby(['treatment_group', 'repayment_outcome']).size().unstack()\n",
    "group_props = group_counts.div(group_counts.sum(axis=1), axis=0)\n",
    "\n",
    "group_props.plot(kind='bar', stacked=True, figsize=(8,5))\n",
    "plt.title('Repayment Outcome Proportion by Group')\n",
    "plt.ylabel('Proportion')\n",
    "plt.xticks(rotation=0)\n",
    "plt.show()"
   ]
  },
  {
   "cell_type": "markdown",
   "metadata": {},
   "source": [
    "## A/B Test: Paid Rate Comparison\n",
    "We test whether the treatment group has a statistically higher on-time repayment rate than the control group."
   ]
  },
  {
   "cell_type": "code",
   "execution_count": 4,
   "metadata": {},
   "outputs": [
    {
     "name": "stdout",
     "output_type": "stream",
     "text": [
      "Z-statistic: -2.322, P-value: 0.020\n",
      "Result: Statistically significant difference in repayment rates.\n"
     ]
    }
   ],
   "source": [
    "# Create binary 'paid' indicator\n",
    "df['is_paid'] = df['repayment_outcome'] == 'paid'\n",
    "\n",
    "# Successes and observations by group\n",
    "successes = df.groupby('treatment_group')['is_paid'].sum()\n",
    "n_obs = df['treatment_group'].value_counts().sort_index()\n",
    "\n",
    "# Perform z-test\n",
    "z_stat, p_val = proportions_ztest(successes, n_obs)\n",
    "\n",
    "print(f\"Z-statistic: {z_stat:.3f}, P-value: {p_val:.3f}\")\n",
    "if p_val < 0.05:\n",
    "    print(\"Result: Statistically significant difference in repayment rates.\")\n",
    "else:\n",
    "    print(\"Result: No statistically significant difference.\")"
   ]
  },
  {
   "cell_type": "markdown",
   "metadata": {},
   "source": [
    "### ✅ Conclusion\n",
    "\n",
    "Based on the A/B test results comparing repayment rates between the treatment and control groups:\n",
    "\n",
    "- The **treatment group**, which had access to the early repayment feature, showed a **higher proportion of on-time repayments** compared to the control group.\n",
    "- The **z-test produced a p-value < 0.05**, indicating that the observed difference is **statistically significant** and unlikely to have occurred by chance.\n",
    "\n",
    "This suggests that the early repayment feature may have a **positive impact on repayment behavior**, reducing the risk of default and improving overall loan performance.\n",
    "\n",
    "---\n",
    "\n",
    "### 📌 Next Steps\n",
    "- Monitor repayment behavior over a longer period and across more diverse user segments\n",
    "- Combine with user-level features (e.g., credit score, tenure) for more granular cohort analysis\n",
    "- Estimate business impact (e.g., net loss reduction, operational efficiency)"
   ]
  },
  {
   "cell_type": "code",
   "execution_count": null,
   "metadata": {},
   "outputs": [],
   "source": []
  }
 ],
 "metadata": {
  "kernelspec": {
   "display_name": "Python 3",
   "language": "python",
   "name": "python3"
  },
  "language_info": {
   "codemirror_mode": {
    "name": "ipython",
    "version": 3
   },
   "file_extension": ".py",
   "mimetype": "text/x-python",
   "name": "python",
   "nbconvert_exporter": "python",
   "pygments_lexer": "ipython3",
   "version": "3.7.3"
  }
 },
 "nbformat": 4,
 "nbformat_minor": 2
}
